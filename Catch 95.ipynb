{
 "cells": [
  {
   "cell_type": "code",
   "execution_count": 1,
   "metadata": {},
   "outputs": [],
   "source": [
    "import numpy as np\n",
    "import cv2\n",
    "import os\n",
    "from keras.utils import np_utils\n",
    "from sklearn.model_selection import train_test_split\n",
    "from keras.models import Sequential\n",
    "from keras.layers import Dense, Flatten, Conv2D, MaxPooling2D, Activation, Dropout\n",
    "from keras.optimizers import SGD\n",
    "from keras.callbacks import ModelCheckpoint\n",
    "from keras.models import load_model\n",
    "import tensorflow.keras\n",
    "from PIL import Image, ImageOps\n",
    "import numpy as np"
   ]
  },
  {
   "cell_type": "code",
   "execution_count": 2,
   "metadata": {},
   "outputs": [],
   "source": [
    "face_detect = cv2.CascadeClassifier('C:/Users/K MANGOTRA/anaconda3/Lib/site-packages/cv2/data/haarcascade_frontalface_default.xml')"
   ]
  },
  {
   "cell_type": "code",
   "execution_count": 3,
   "metadata": {},
   "outputs": [],
   "source": [
    "mod = load_model('model-best')"
   ]
  },
  {
   "cell_type": "code",
   "execution_count": 4,
   "metadata": {},
   "outputs": [],
   "source": [
    "# Disable scientific notation for clarity\n",
    "np.set_printoptions(suppress=True)\n",
    "\n",
    "# Load the model\n",
    "model = tensorflow.keras.models.load_model('keras_model.h5',compile=False)"
   ]
  },
  {
   "cell_type": "code",
   "execution_count": 7,
   "metadata": {},
   "outputs": [],
   "source": [
    "source = cv2.VideoCapture(0)\n",
    "#image = image.open('C:/Users/K MANGOTRA/Downloads/N95/0.jpg')\n",
    "#cv2.resizeWindow('Catch95',224,224)\n",
    "fontScale=0.25\n",
    "while 1:\n",
    "    not_to_use, image = source.read()\n",
    "    gray = cv2.cvtColor(image, cv2.COLOR_BGR2GRAY)\n",
    "    gray=cv2.resize(gray,(224,244))\n",
    "    faces = face_detect.detectMultiScale(gray, 1.5, 1)\n",
    "    data = np.ndarray(shape=(1, 224, 224, 3), dtype=np.float32)\n",
    "    #size=(224,224)\n",
    "    image = cv2.resize(image, (224, 224))\n",
    "    image_array = np.asarray(image)\n",
    "    normalized_image_array = (image_array.astype(np.float32) / 255.0) - 1\n",
    "\n",
    "    # Load the image into the array\n",
    "    data[0] = normalized_image_array\n",
    "\n",
    "    # run the inference\n",
    "    prediction = model.predict(data)\n",
    "    for (x, y, w, h) in faces:\n",
    "        face_roi = gray[y:y+w, x:x+h]\n",
    "        resized_image = cv2.resize(face_roi, (100, 100))\n",
    "        normalized_image = resized_image/255\n",
    "        reshaped_face = np.reshape(normalized_image, (1, 100, 100, 1))\n",
    "        result = mod.predict(reshaped_face)[0]\n",
    "        #print(\"Result : \", result)\n",
    "        if result[0] >  result[1]:\n",
    "            cv2.rectangle(image, (x, y), (x + w, y + h), (0, 255, 0), 2)\n",
    "            cv2.putText(image, \"Safe     \", (x, y), cv2.FONT_HERSHEY_SIMPLEX, 0.25, (0, 255, 0), 2)\n",
    "            \n",
    "            if(prediction[0][0]>0.75):\n",
    "            #cv2.rectangle(image, (x, y), (x + w, y + h), (0, 255, 0), 2)\n",
    "                cv2.putText(image, \"N95 Detected\", (x, y), cv2.FONT_HERSHEY_SIMPLEX, 0.25, (0, 255, 0), 2)\n",
    "            elif(prediction[0][1]>0.75):\n",
    "            #cv2.rectangle(image, (x, y), (x + w, y + h), (0, 255, 0), 2)\n",
    "                cv2.putText(image, \"Not N95\", (x, y), cv2.FONT_HERSHEY_SIMPLEX, 0.25, (255, 0, 0), 2)\n",
    "            elif(prediction[0][2]>0.75):\n",
    "            #cv2.rectangle(image, (x, y), (x + w, y + h), (0, 255, 0), 2)\n",
    "                cv2.putText(image, \"Incorrectly Wearing!\", (x, y), cv2.FONT_HERSHEY_SIMPLEX, 0.25, (0, 0, 255), 2)\n",
    "            else:\n",
    "                cv2.putText(image,\"Reposition yourself\", (x, y), cv2.FONT_HERSHEY_SIMPLEX, 0.25, (0, 0, 255), 2)\n",
    "                \n",
    "        elif result[1] >  result[0]:\n",
    "            cv2.rectangle(image, (x, y), (x + w, y + h), (0, 0, 255), 2)\n",
    "            cv2.putText(image, \"Not Safe\", (x, y), cv2.FONT_HERSHEY_SIMPLEX, 0.25, (255, 255, 255), 2)\n",
    "            \n",
    "    \n",
    "        \n",
    "    cv2.imshow('Catch95', image)\n",
    "    key = cv2.waitKey(1)\n",
    "    if key == 27:\n",
    "        break\n",
    "cv2.destroyAllWindows()\n",
    "source.release()"
   ]
  },
  {
   "cell_type": "code",
   "execution_count": null,
   "metadata": {},
   "outputs": [],
   "source": [
    "import tensorflow.keras\n",
    "from PIL import Image, ImageOps\n",
    "import numpy as np\n",
    "\n",
    "# Disable scientific notation for clarity\n",
    "np.set_printoptions(suppress=True)\n",
    "\n",
    "# Load the model\n",
    "model = tensorflow.keras.models.load_model('keras_model.h5')\n",
    "while 1:\n",
    "# Create the array of the right shape to feed into the keras model\n",
    "# The 'length' or number of images you can put into the array is\n",
    "# determined by the first position in the shape tuple, in this case 1.\n",
    "    data = np.ndarray(shape=(1, 224, 224, 3), dtype=np.float32)\n",
    "\n",
    "    # Replace this with the path to your image\n",
    "    #image = Image.open('C:/Users/K MANGOTRA/Desktop/MaskDetect/data/with_mask/with_mask_629.jpg')\n",
    "\n",
    "    #resize the image to a 224x224 with the same strategy as in TM2:\n",
    "    #resizing the image to be at least 224x224 and then cropping from the center\n",
    "    #size = (224, 224)\n",
    "    #image = ImageOps.fit(image, size, Image.ANTIALIAS)\n",
    "\n",
    "    #turn the image into a numpy array\n",
    "    image_array = np.asarray(image)\n",
    "\n",
    "    # display the resized image\n",
    "\n",
    "\n",
    "    # Normalize the image\n",
    "    normalized_image_array = (image_array.astype(np.float32) / 127.0) - 1\n",
    "\n",
    "    # Load the image into the array\n",
    "    data[0] = normalized_image_array\n",
    "\n",
    "    # run the inference\n",
    "    prediction = model.predict(data)\n",
    "    print(prediction)"
   ]
  }
 ],
 "metadata": {
  "kernelspec": {
   "display_name": "Python 3",
   "language": "python",
   "name": "python3"
  },
  "language_info": {
   "codemirror_mode": {
    "name": "ipython",
    "version": 3
   },
   "file_extension": ".py",
   "mimetype": "text/x-python",
   "name": "python",
   "nbconvert_exporter": "python",
   "pygments_lexer": "ipython3",
   "version": "3.8.5"
  }
 },
 "nbformat": 4,
 "nbformat_minor": 4
}
