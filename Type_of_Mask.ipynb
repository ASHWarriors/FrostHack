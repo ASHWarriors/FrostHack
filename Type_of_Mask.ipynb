{
 "cells": [
  {
   "cell_type": "code",
   "execution_count": 1,
   "metadata": {},
   "outputs": [],
   "source": [
    "import numpy as np\n",
    "import cv2\n",
    "import os"
   ]
  },
  {
   "cell_type": "code",
   "execution_count": 2,
   "metadata": {},
   "outputs": [],
   "source": [
    "images = []\n",
    "targets = []"
   ]
  },
  {
   "cell_type": "code",
   "execution_count": 3,
   "metadata": {},
   "outputs": [],
   "source": [
    "n95_path = 'C:/Users/K MANGOTRA/Downloads/n95masks/ninety_five/'\n",
    "not_n95_path = 'C:/Users/K MANGOTRA/Downloads/surgical/surgical/'"
   ]
  },
  {
   "cell_type": "code",
   "execution_count": 4,
   "metadata": {},
   "outputs": [
    {
     "name": "stdout",
     "output_type": "stream",
     "text": [
      "Completed\n"
     ]
    }
   ],
   "source": [
    "content = os.listdir(n95_path)\n",
    "error_count = 1\n",
    "for image in content:\n",
    "    try:\n",
    "        filename = n95_path + image\n",
    "        #print(filename)\n",
    "        img = cv2.imread(filename)\n",
    "        #print(\"Img : \",img)\n",
    "       \n",
    "        #img_grey = cv2.cvtColor(img , cv2.COLOR_BGR2GRAY)\n",
    "        img = cv2.cvtColor(img, cv2.COLOR_BGR2HSV)\n",
    "        resized_img = cv2.resize(img, (100, 100))\n",
    "        #img = cv2.cvtColor(img_grey, cv2.COLOR_BGR2HSV)\n",
    "        images.append(resized_img)\n",
    "        targets.append(1)\n",
    "    except:\n",
    "        print(\"Filename Error\", error_count)\n",
    "        error_count += 1\n",
    "print(\"Completed\")"
   ]
  },
  {
   "cell_type": "code",
   "execution_count": 5,
   "metadata": {},
   "outputs": [
    {
     "name": "stdout",
     "output_type": "stream",
     "text": [
      "Completed\n"
     ]
    }
   ],
   "source": [
    "content = os.listdir(not_n95_path)\n",
    "error_count = 1\n",
    "for image in content:\n",
    "    try:\n",
    "        filename = not_n95_path + image\n",
    "        #print(filename)\n",
    "        img = cv2.imread(filename)\n",
    "        #print(\"Img : \",img)\n",
    "        \n",
    "        #img_grey = cv2.cvtColor(img , cv2.COLOR_BGR2GRAY)\n",
    "        img = cv2.cvtColor(img, cv2.COLOR_BGR2HSV)\n",
    "        resized_img = cv2.resize(img, (100, 100))\n",
    "        images.append(resized_img)\n",
    "        targets.append(0)\n",
    "    except:\n",
    "        print(\"Filename Error\", error_count)\n",
    "        error_count += 1\n",
    "print(\"Completed\")"
   ]
  },
  {
   "cell_type": "code",
   "execution_count": 6,
   "metadata": {},
   "outputs": [
    {
     "name": "stdout",
     "output_type": "stream",
     "text": [
      "['download (1).jfif', 'download (2).jfif', 'download (3).jfif', 'download (4).jfif', 'download (5).jfif', 'download.jfif', 'images (1).jfif', 'images (10).jfif', 'images (11).jfif', 'images (12).jfif', 'images (13).jfif', 'images (14).jfif', 'images (15).jfif', 'images (16).jfif', 'images (17).jfif', 'images (18).jfif', 'images (19).jfif', 'images (2).jfif', 'images (20).jfif', 'images (21).jfif', 'images (22).jfif', 'images (23).jfif', 'images (24).jfif', 'images (25).jfif', 'images (26).jfif', 'images (27).jfif', 'images (28).jfif', 'images (29).jfif', 'images (3).jfif', 'images (30).jfif', 'images (31).jfif', 'images (32).jfif', 'images (33).jfif', 'images (34).jfif', 'images (35).jfif', 'images (36).jfif', 'images (4).jfif', 'images (5).jfif', 'images (6).jfif', 'images (7).jfif', 'images (8).jfif', 'images (9).jfif', 'images.jfif', 'images13.jfif', 'sm1.jpg', 'sm10.jpg', 'sm11.jpg', 'sm13.jpg', 'sm14.jpg', 'sm15.jpg', 'sm16.jpg', 'sm17.jpg', 'sm19.jpg', 'sm20.jpg', 'sm21.jpg', 'sm23.jpg', 'sm24.jpg', 'sm25.jpg', 'sm26.jpg', 'sm27.jpg', 'sm28.jpg', 'sm29.jpg', 'sm3.jpg', 'sm30.jpg', 'sm31.jpg', 'sm32.jpg', 'sm33.jpg', 'sm34.jpg', 'sm35.jpg', 'sm36.jpg', 'sm37.jpg', 'sm38.jpg', 'sm39.jpg', 'sm4.jpg', 'sm40.jpg', 'sm41.jpg', 'sm42.jpg', 'sm43.jpg', 'sm44.jpg', 'sm45.jpg', 'sm46.jpg', 'sm47.jpg', 'sm48.jpg', 'sm49.jpg', 'sm5.jpg', 'sm50.jpg', 'sm6.jpg', 'sm7.jpg', 'sm8.jpg', 'sm9.jpg']\n"
     ]
    }
   ],
   "source": [
    "print(content)"
   ]
  },
  {
   "cell_type": "code",
   "execution_count": 6,
   "metadata": {},
   "outputs": [
    {
     "data": {
      "text/plain": [
       "(159, 159)"
      ]
     },
     "execution_count": 6,
     "metadata": {},
     "output_type": "execute_result"
    }
   ],
   "source": [
    "len(images), len(targets)"
   ]
  },
  {
   "cell_type": "code",
   "execution_count": 7,
   "metadata": {},
   "outputs": [],
   "source": [
    "images = np.array(images)/255.0"
   ]
  },
  {
   "cell_type": "code",
   "execution_count": 9,
   "metadata": {},
   "outputs": [
    {
     "data": {
      "text/plain": [
       "array([[[[0.43137255, 0.01176471, 0.98823529],\n",
       "         [0.43137255, 0.01176471, 0.98823529],\n",
       "         [0.43137255, 0.01176471, 0.98823529],\n",
       "         ...,\n",
       "         [0.29411765, 0.00784314, 0.99215686],\n",
       "         [0.29411765, 0.00784314, 0.99215686],\n",
       "         [0.43137255, 0.01176471, 0.99215686]],\n",
       "\n",
       "        [[0.43137255, 0.01176471, 0.98823529],\n",
       "         [0.43137255, 0.01176471, 0.98823529],\n",
       "         [0.43137255, 0.01176471, 0.98823529],\n",
       "         ...,\n",
       "         [0.29411765, 0.00784314, 0.99215686],\n",
       "         [0.29411765, 0.00784314, 0.99215686],\n",
       "         [0.43137255, 0.01176471, 0.99215686]],\n",
       "\n",
       "        [[0.43137255, 0.01176471, 0.98823529],\n",
       "         [0.43137255, 0.01176471, 0.98823529],\n",
       "         [0.43137255, 0.01176471, 0.98823529],\n",
       "         ...,\n",
       "         [0.29411765, 0.00784314, 0.99215686],\n",
       "         [0.29411765, 0.00784314, 0.99215686],\n",
       "         [0.43137255, 0.01176471, 0.99215686]],\n",
       "\n",
       "        ...,\n",
       "\n",
       "        [[0.04705882, 0.12941176, 0.90980392],\n",
       "         [0.04705882, 0.12941176, 0.91372549],\n",
       "         [0.04705882, 0.12941176, 0.91372549],\n",
       "         ...,\n",
       "         [0.30980392, 0.04705882, 0.90196078],\n",
       "         [0.30196078, 0.04705882, 0.89019608],\n",
       "         [0.20784314, 0.07058824, 0.89019608]],\n",
       "\n",
       "        [[0.04705882, 0.13333333, 0.89411765],\n",
       "         [0.04705882, 0.12941176, 0.89803922],\n",
       "         [0.04705882, 0.12941176, 0.90196078],\n",
       "         ...,\n",
       "         [0.30980392, 0.04705882, 0.90196078],\n",
       "         [0.30196078, 0.04705882, 0.88627451],\n",
       "         [0.23529412, 0.05490196, 0.88235294]],\n",
       "\n",
       "        [[0.04705882, 0.13333333, 0.88235294],\n",
       "         [0.04705882, 0.13333333, 0.88627451],\n",
       "         [0.04705882, 0.13333333, 0.89019608],\n",
       "         ...,\n",
       "         [0.30980392, 0.04705882, 0.87843137],\n",
       "         [0.30588235, 0.05098039, 0.86666667],\n",
       "         [0.2627451 , 0.05098039, 0.87843137]]],\n",
       "\n",
       "\n",
       "       [[[0.09803922, 0.3372549 , 0.82352941],\n",
       "         [0.09803922, 0.25490196, 0.9254902 ],\n",
       "         [0.09411765, 0.17254902, 0.94509804],\n",
       "         ...,\n",
       "         [0.        , 0.        , 1.        ],\n",
       "         [0.        , 0.        , 1.        ],\n",
       "         [0.        , 0.        , 1.        ]],\n",
       "\n",
       "        [[0.09803922, 0.33333333, 0.82745098],\n",
       "         [0.09411765, 0.24705882, 0.9254902 ],\n",
       "         [0.09411765, 0.17254902, 0.94901961],\n",
       "         ...,\n",
       "         [0.        , 0.        , 1.        ],\n",
       "         [0.        , 0.        , 1.        ],\n",
       "         [0.        , 0.        , 1.        ]],\n",
       "\n",
       "        [[0.09411765, 0.31764706, 0.83137255],\n",
       "         [0.09411765, 0.23529412, 0.92941176],\n",
       "         [0.09019608, 0.16470588, 0.95294118],\n",
       "         ...,\n",
       "         [0.        , 0.        , 1.        ],\n",
       "         [0.        , 0.        , 1.        ],\n",
       "         [0.        , 0.        , 1.        ]],\n",
       "\n",
       "        ...,\n",
       "\n",
       "        [[0.08235294, 0.34901961, 0.98823529],\n",
       "         [0.08235294, 0.36862745, 0.97254902],\n",
       "         [0.08235294, 0.35686275, 0.95686275],\n",
       "         ...,\n",
       "         [0.13333333, 0.63137255, 0.84313725],\n",
       "         [0.13333333, 0.53333333, 0.8745098 ],\n",
       "         [0.13333333, 0.50196078, 0.87058824]],\n",
       "\n",
       "        [[0.09019608, 0.38431373, 0.98431373],\n",
       "         [0.07843137, 0.34117647, 0.99607843],\n",
       "         [0.07058824, 0.34901961, 0.99215686],\n",
       "         ...,\n",
       "         [0.13333333, 0.63529412, 0.85882353],\n",
       "         [0.13333333, 0.52941176, 0.89803922],\n",
       "         [0.13333333, 0.49411765, 0.85490196]],\n",
       "\n",
       "        [[0.08235294, 0.44705882, 0.96470588],\n",
       "         [0.07843137, 0.34509804, 0.99215686],\n",
       "         [0.0745098 , 0.34509804, 1.        ],\n",
       "         ...,\n",
       "         [0.1254902 , 0.61960784, 0.83529412],\n",
       "         [0.12941176, 0.55686275, 0.8745098 ],\n",
       "         [0.12941176, 0.51372549, 0.85882353]]],\n",
       "\n",
       "\n",
       "       [[[0.35294118, 0.08235294, 0.65882353],\n",
       "         [0.35294118, 0.08235294, 0.65882353],\n",
       "         [0.35294118, 0.08235294, 0.6627451 ],\n",
       "         ...,\n",
       "         [0.31372549, 0.06666667, 0.71372549],\n",
       "         [0.31372549, 0.06666667, 0.71372549],\n",
       "         [0.31372549, 0.06666667, 0.71372549]],\n",
       "\n",
       "        [[0.35294118, 0.07058824, 0.65882353],\n",
       "         [0.35294118, 0.07058824, 0.65882353],\n",
       "         [0.35294118, 0.07058824, 0.6627451 ],\n",
       "         ...,\n",
       "         [0.31372549, 0.06666667, 0.71372549],\n",
       "         [0.31372549, 0.06666667, 0.71372549],\n",
       "         [0.31372549, 0.06666667, 0.71372549]],\n",
       "\n",
       "        [[0.35294118, 0.07058824, 0.65882353],\n",
       "         [0.35294118, 0.07058824, 0.65882353],\n",
       "         [0.35294118, 0.07058824, 0.6627451 ],\n",
       "         ...,\n",
       "         [0.31372549, 0.06666667, 0.71372549],\n",
       "         [0.31372549, 0.06666667, 0.71372549],\n",
       "         [0.31372549, 0.06666667, 0.71372549]],\n",
       "\n",
       "        ...,\n",
       "\n",
       "        [[0.45098039, 0.03921569, 0.59607843],\n",
       "         [0.45098039, 0.03921569, 0.59607843],\n",
       "         [0.45098039, 0.03921569, 0.6       ],\n",
       "         ...,\n",
       "         [0.41176471, 0.50588235, 0.64705882],\n",
       "         [0.41176471, 0.29019608, 0.89803922],\n",
       "         [0.41176471, 0.35686275, 0.78039216]],\n",
       "\n",
       "        [[0.45098039, 0.03921569, 0.59607843],\n",
       "         [0.45098039, 0.03921569, 0.59607843],\n",
       "         [0.45098039, 0.03921569, 0.59607843],\n",
       "         ...,\n",
       "         [0.41176471, 0.49411765, 0.61960784],\n",
       "         [0.41176471, 0.27058824, 0.94901961],\n",
       "         [0.41176471, 0.36078431, 0.80392157]],\n",
       "\n",
       "        [[0.45098039, 0.03921569, 0.59607843],\n",
       "         [0.45098039, 0.03921569, 0.59607843],\n",
       "         [0.45098039, 0.03921569, 0.59607843],\n",
       "         ...,\n",
       "         [0.41176471, 0.37254902, 0.77254902],\n",
       "         [0.40784314, 0.25098039, 0.95686275],\n",
       "         [0.41176471, 0.42745098, 0.68627451]]],\n",
       "\n",
       "\n",
       "       ...,\n",
       "\n",
       "\n",
       "       [[[0.        , 0.        , 0.84705882],\n",
       "         [0.        , 0.        , 0.85882353],\n",
       "         [0.        , 0.        , 0.8745098 ],\n",
       "         ...,\n",
       "         [0.        , 0.        , 0.96078431],\n",
       "         [0.09411765, 0.00392157, 0.96862745],\n",
       "         [0.11764706, 0.00784314, 0.96862745]],\n",
       "\n",
       "        [[0.        , 0.        , 0.82352941],\n",
       "         [0.        , 0.        , 0.83921569],\n",
       "         [0.        , 0.        , 0.8627451 ],\n",
       "         ...,\n",
       "         [0.        , 0.        , 0.96470588],\n",
       "         [0.09411765, 0.00392157, 0.97254902],\n",
       "         [0.11764706, 0.00784314, 0.97254902]],\n",
       "\n",
       "        [[0.11764706, 0.00784314, 0.81176471],\n",
       "         [0.11764706, 0.00784314, 0.82745098],\n",
       "         [0.11764706, 0.00784314, 0.85098039],\n",
       "         ...,\n",
       "         [0.        , 0.        , 0.96078431],\n",
       "         [0.09019608, 0.00784314, 0.97254902],\n",
       "         [0.11764706, 0.00784314, 0.97647059]],\n",
       "\n",
       "        ...,\n",
       "\n",
       "        [[0.05490196, 0.53333333, 0.19215686],\n",
       "         [0.0627451 , 0.55686275, 0.19607843],\n",
       "         [0.06666667, 0.50588235, 0.22352941],\n",
       "         ...,\n",
       "         [0.6745098 , 0.7372549 , 0.16862745],\n",
       "         [0.6745098 , 0.6745098 , 0.18039216],\n",
       "         [0.6745098 , 0.65882353, 0.18431373]],\n",
       "\n",
       "        [[0.05882353, 0.58039216, 0.21960784],\n",
       "         [0.05882353, 0.58823529, 0.21960784],\n",
       "         [0.05882353, 0.45490196, 0.28627451],\n",
       "         ...,\n",
       "         [0.6745098 , 0.89803922, 0.1372549 ],\n",
       "         [0.6745098 , 0.78039216, 0.15686275],\n",
       "         [0.6745098 , 0.74117647, 0.16470588]],\n",
       "\n",
       "        [[0.03529412, 0.22745098, 0.39215686],\n",
       "         [0.05098039, 0.4       , 0.2745098 ],\n",
       "         [0.05882353, 0.50196078, 0.25882353],\n",
       "         ...,\n",
       "         [0.6745098 , 0.71764706, 0.16470588],\n",
       "         [0.6745098 , 0.71372549, 0.16470588],\n",
       "         [0.6745098 , 0.71764706, 0.16470588]]],\n",
       "\n",
       "\n",
       "       [[[0.04313725, 0.11764706, 0.88627451],\n",
       "         [0.04313725, 0.11764706, 0.89411765],\n",
       "         [0.05098039, 0.1254902 , 0.90196078],\n",
       "         ...,\n",
       "         [0.04705882, 0.32156863, 0.56470588],\n",
       "         [0.04705882, 0.32156863, 0.56078431],\n",
       "         [0.04705882, 0.32156863, 0.56078431]],\n",
       "\n",
       "        [[0.04313725, 0.11372549, 0.9254902 ],\n",
       "         [0.04313725, 0.11372549, 0.91764706],\n",
       "         [0.05098039, 0.1254902 , 0.90980392],\n",
       "         ...,\n",
       "         [0.05098039, 0.3254902 , 0.54117647],\n",
       "         [0.05098039, 0.3254902 , 0.54117647],\n",
       "         [0.05098039, 0.3254902 , 0.54117647]],\n",
       "\n",
       "        [[0.04313725, 0.11372549, 0.92156863],\n",
       "         [0.04313725, 0.11764706, 0.91372549],\n",
       "         [0.05098039, 0.1254902 , 0.89803922],\n",
       "         ...,\n",
       "         [0.05882353, 0.3254902 , 0.51372549],\n",
       "         [0.05882353, 0.3254902 , 0.51764706],\n",
       "         [0.05882353, 0.3254902 , 0.51764706]],\n",
       "\n",
       "        ...,\n",
       "\n",
       "        [[0.44705882, 0.23529412, 0.09019608],\n",
       "         [0.47058824, 0.08235294, 0.10588235],\n",
       "         [0.6627451 , 0.2745098 , 0.14509804],\n",
       "         ...,\n",
       "         [0.41960784, 0.75686275, 0.6745098 ],\n",
       "         [0.41960784, 0.75686275, 0.6745098 ],\n",
       "         [0.41960784, 0.75686275, 0.6745098 ]],\n",
       "\n",
       "        [[0.45098039, 0.17647059, 0.13333333],\n",
       "         [0.49411765, 0.1372549 , 0.14901961],\n",
       "         [0.63529412, 0.27843137, 0.1254902 ],\n",
       "         ...,\n",
       "         [0.41960784, 0.76078431, 0.67058824],\n",
       "         [0.41960784, 0.76078431, 0.67058824],\n",
       "         [0.41960784, 0.76078431, 0.67058824]],\n",
       "\n",
       "        [[0.50588235, 0.18039216, 0.11764706],\n",
       "         [0.54509804, 0.14901961, 0.14509804],\n",
       "         [0.61568627, 0.16078431, 0.12941176],\n",
       "         ...,\n",
       "         [0.41960784, 0.77254902, 0.65882353],\n",
       "         [0.41960784, 0.77254902, 0.65882353],\n",
       "         [0.41960784, 0.77647059, 0.66666667]]],\n",
       "\n",
       "\n",
       "       [[[0.05098039, 0.8       , 0.07843137],\n",
       "         [0.05098039, 0.8       , 0.07843137],\n",
       "         [0.05098039, 0.8       , 0.07843137],\n",
       "         ...,\n",
       "         [0.05882353, 0.84705882, 0.52156863],\n",
       "         [0.05882353, 0.86666667, 0.51764706],\n",
       "         [0.05882353, 0.94509804, 0.47843137]],\n",
       "\n",
       "        [[0.05098039, 0.8       , 0.07843137],\n",
       "         [0.05098039, 0.8       , 0.07843137],\n",
       "         [0.05098039, 0.8       , 0.07843137],\n",
       "         ...,\n",
       "         [0.05490196, 0.76470588, 0.58431373],\n",
       "         [0.05490196, 0.78039216, 0.59215686],\n",
       "         [0.05490196, 0.89803922, 0.51372549]],\n",
       "\n",
       "        [[0.05098039, 0.8       , 0.07843137],\n",
       "         [0.05098039, 0.8       , 0.07843137],\n",
       "         [0.05098039, 0.8       , 0.07843137],\n",
       "         ...,\n",
       "         [0.05490196, 0.72941176, 0.62745098],\n",
       "         [0.05490196, 0.7254902 , 0.65490196],\n",
       "         [0.05490196, 0.81568627, 0.58823529]],\n",
       "\n",
       "        ...,\n",
       "\n",
       "        [[0.06666667, 0.78823529, 0.09411765],\n",
       "         [0.05490196, 0.75686275, 0.09411765],\n",
       "         [0.05882353, 0.74117647, 0.09411765],\n",
       "         ...,\n",
       "         [0.09411765, 0.8745098 , 0.02352941],\n",
       "         [0.09411765, 1.        , 0.01960784],\n",
       "         [0.07843137, 0.6       , 0.01960784]],\n",
       "\n",
       "        [[0.05490196, 0.6627451 , 0.07843137],\n",
       "         [0.05490196, 0.65882353, 0.07843137],\n",
       "         [0.05882353, 0.71764706, 0.07843137],\n",
       "         ...,\n",
       "         [0.09411765, 0.8745098 , 0.02352941],\n",
       "         [0.09411765, 1.        , 0.01960784],\n",
       "         [0.07843137, 0.6       , 0.01960784]],\n",
       "\n",
       "        [[0.04705882, 0.54117647, 0.05882353],\n",
       "         [0.05098039, 0.58039216, 0.05882353],\n",
       "         [0.05490196, 0.61960784, 0.05882353],\n",
       "         ...,\n",
       "         [0.09411765, 0.8745098 , 0.02352941],\n",
       "         [0.09411765, 1.        , 0.01960784],\n",
       "         [0.07843137, 0.6       , 0.01960784]]]])"
      ]
     },
     "execution_count": 9,
     "metadata": {},
     "output_type": "execute_result"
    }
   ],
   "source": [
    "images"
   ]
  },
  {
   "cell_type": "code",
   "execution_count": 8,
   "metadata": {},
   "outputs": [],
   "source": [
    "images = np.resize(images, (159, 100, 100, 1)) ####"
   ]
  },
  {
   "cell_type": "code",
   "execution_count": 9,
   "metadata": {},
   "outputs": [],
   "source": [
    "from keras.utils import np_utils"
   ]
  },
  {
   "cell_type": "code",
   "execution_count": 10,
   "metadata": {},
   "outputs": [],
   "source": [
    "targets = np_utils.to_categorical(targets)"
   ]
  },
  {
   "cell_type": "code",
   "execution_count": 11,
   "metadata": {},
   "outputs": [],
   "source": [
    "from sklearn.model_selection import train_test_split"
   ]
  },
  {
   "cell_type": "code",
   "execution_count": 12,
   "metadata": {},
   "outputs": [],
   "source": [
    "X_train, X_test, Y_train, Y_test = train_test_split(images, targets)"
   ]
  },
  {
   "cell_type": "code",
   "execution_count": 13,
   "metadata": {},
   "outputs": [
    {
     "data": {
      "text/plain": [
       "((119, 100, 100, 1), (40, 100, 100, 1), (119, 2), (40, 2))"
      ]
     },
     "execution_count": 13,
     "metadata": {},
     "output_type": "execute_result"
    }
   ],
   "source": [
    "X_train.shape, X_test.shape, Y_train.shape, Y_test.shape"
   ]
  },
  {
   "cell_type": "code",
   "execution_count": 14,
   "metadata": {},
   "outputs": [],
   "source": [
    "from keras.models import Sequential\n",
    "from keras.layers import Dense, Flatten, Conv2D, MaxPooling2D, Activation, Dropout\n",
    "from keras.optimizers import SGD\n",
    "from keras.callbacks import ModelCheckpoint"
   ]
  },
  {
   "cell_type": "code",
   "execution_count": 15,
   "metadata": {},
   "outputs": [],
   "source": [
    "model=Sequential()"
   ]
  },
  {
   "cell_type": "code",
   "execution_count": 16,
   "metadata": {},
   "outputs": [],
   "source": [
    "model.add(Conv2D(200, (3,3), input_shape=(100, 100, 1)))\n",
    "model.add(Activation('relu'))\n",
    "model.add(MaxPooling2D(pool_size=(2, 2)))\n",
    "\n",
    "model.add(Conv2D(100, (3,3)))\n",
    "model.add(Activation('relu'))\n",
    "model.add(MaxPooling2D(pool_size=(2, 2)))\n",
    "\n",
    "model.add(Conv2D(50, (3,3)))\n",
    "model.add(Activation('relu'))\n",
    "model.add(MaxPooling2D(pool_size=(2, 2)))\n",
    "\n",
    "\n",
    "model.add(Dropout(0.3))\n",
    "model.add(Flatten())\n",
    "\n",
    "model.add(Dense(25, activation='relu'))\n",
    "model.add(Dense(2, activation='softmax'))\n",
    "\n",
    "model.compile(loss='categorical_crossentropy', optimizer='adam', metrics=['accuracy'])"
   ]
  },
  {
   "cell_type": "code",
   "execution_count": 17,
   "metadata": {},
   "outputs": [
    {
     "name": "stdout",
     "output_type": "stream",
     "text": [
      "Epoch 1/5\n",
      "3/3 [==============================] - 14s 5s/step - loss: 0.7151 - accuracy: 0.4792 - val_loss: 0.6890 - val_accuracy: 0.5833\n",
      "INFO:tensorflow:Assets written to: model_b\\assets\n",
      "Epoch 2/5\n",
      "3/3 [==============================] - 6s 2s/step - loss: 0.6786 - accuracy: 0.6164 - val_loss: 0.6811 - val_accuracy: 0.5833\n",
      "INFO:tensorflow:Assets written to: model_b\\assets\n",
      "Epoch 3/5\n",
      "3/3 [==============================] - 6s 2s/step - loss: 0.6676 - accuracy: 0.6086 - val_loss: 0.6831 - val_accuracy: 0.5833\n",
      "Epoch 4/5\n",
      "3/3 [==============================] - 6s 2s/step - loss: 0.6568 - accuracy: 0.6359 - val_loss: 0.6807 - val_accuracy: 0.5833\n",
      "INFO:tensorflow:Assets written to: model_b\\assets\n",
      "Epoch 5/5\n",
      "3/3 [==============================] - 6s 2s/step - loss: 0.6581 - accuracy: 0.6086 - val_loss: 0.6804 - val_accuracy: 0.5833\n",
      "INFO:tensorflow:Assets written to: model_b\\assets\n"
     ]
    },
    {
     "data": {
      "text/plain": [
       "<tensorflow.python.keras.callbacks.History at 0x1b4b427f940>"
      ]
     },
     "execution_count": 17,
     "metadata": {},
     "output_type": "execute_result"
    }
   ],
   "source": [
    "cp = ModelCheckpoint('model_b', verbose=0, save_best_only=True)\n",
    "model.fit(X_train, Y_train, epochs = 5, callbacks=[cp], validation_split=0.2)"
   ]
  },
  {
   "cell_type": "code",
   "execution_count": 18,
   "metadata": {},
   "outputs": [],
   "source": [
    "from keras.models import load_model"
   ]
  },
  {
   "cell_type": "code",
   "execution_count": 19,
   "metadata": {},
   "outputs": [],
   "source": [
    "nmod = load_model('model_b')"
   ]
  },
  {
   "cell_type": "code",
   "execution_count": 20,
   "metadata": {},
   "outputs": [],
   "source": [
    "face_detect = cv2.CascadeClassifier('C:/Users/K MANGOTRA/anaconda3/Lib/site-packages/cv2/data/haarcascade_frontalface_default.xml')\n",
    "nose_detect = cv2.CascadeClassifier('C:/Users/K MANGOTRA/Desktop/Nariz.xml')"
   ]
  },
  {
   "cell_type": "code",
   "execution_count": null,
   "metadata": {},
   "outputs": [],
   "source": [
    "#mod = load_model('model-best')"
   ]
  },
  {
   "cell_type": "code",
   "execution_count": 22,
   "metadata": {},
   "outputs": [],
   "source": [
    "source = cv2.VideoCapture(0)\n",
    "while 1:\n",
    "    not_to_use, image = source.read()\n",
    "    gray = cv2.cvtColor(image, cv2.COLOR_BGR2GRAY)\n",
    "    faces = face_detect.detectMultiScale(gray, 1.5, 1)\n",
    "    for (x, y, w, h) in faces:\n",
    "        face_roi = gray[y:y+w, x:x+h]\n",
    "        resized_image = cv2.resize(face_roi, (100, 100))\n",
    "        normalized_image = resized_image/255\n",
    "        reshaped_face = np.reshape(normalized_image, (1, 100, 100, 1))\n",
    "        result = nmod.predict(reshaped_face)[0]\n",
    "        #print(\"Result : \", result)\n",
    "        if result[0] >  result[1]:\n",
    "            cv2.rectangle(image, (x, y), (x + w, y + h), (0, 255, 0), 2)\n",
    "            cv2.putText(image, \"N95\", (x, y), cv2.FONT_HERSHEY_SIMPLEX, 1, (0, 255, 0), 2)\n",
    "        \n",
    "        if result[1] >  result[0]:\n",
    "            cv2.rectangle(image, (x, y), (x + w, y + h), (0, 0, 255), 2)\n",
    "            cv2.putText(image, \"Not N95\", (x, y), cv2.FONT_HERSHEY_SIMPLEX, 1, (0, 0, 255), 2)\n",
    "        \n",
    "            \n",
    "    cv2.imshow('Type of Mask', image)\n",
    "    key = cv2.waitKey(1)\n",
    "    if key == 27:\n",
    "        break\n",
    "cv2.destroyAllWindows()\n",
    "source.release()"
   ]
  }
 ],
 "metadata": {
  "kernelspec": {
   "display_name": "Python 3",
   "language": "python",
   "name": "python3"
  },
  "language_info": {
   "codemirror_mode": {
    "name": "ipython",
    "version": 3
   },
   "file_extension": ".py",
   "mimetype": "text/x-python",
   "name": "python",
   "nbconvert_exporter": "python",
   "pygments_lexer": "ipython3",
   "version": "3.8.5"
  }
 },
 "nbformat": 4,
 "nbformat_minor": 4
}
